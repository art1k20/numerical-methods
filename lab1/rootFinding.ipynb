{
 "cells": [
  {
   "cell_type": "markdown",
   "metadata": {},
   "source": [
    "<h3>Наближене обчислення корення рівняння на проміжку<h3>\n",
    "<h4>варіант 9<h4>\n",
    "\n",
    "<h5>Будемо обчислювати значення корення на проміжку [2, 3],який обчислювали руками. Використовувати будемо методи: Бісекції, Хорд, Ньютона<h5>"
   ]
  },
  {
   "cell_type": "markdown",
   "metadata": {},
   "source": [
    "Початкові параметри "
   ]
  },
  {
   "cell_type": "code",
   "execution_count": 1,
   "metadata": {},
   "outputs": [],
   "source": [
    "epsilon = 0.00001 #точність\n",
    "\n",
    "x = 2.1825127185319464793 #істине значення кореня \n",
    "\n",
    "a = 2  #проміжок\n",
    "b = 3\n",
    "def f(x_0):\n",
    "     return x_0**5 + x_0**4 - 2*(x_0**3) - 9*(x_0**2) - 3*x_0 - 2 #саме рівняння \n",
    "\n",
    "def f_(x_0):\n",
    "     return  5*(x_0**4) + 4*(x_0**3) - 6*(x_0**2) - 18*x_0 - 3 #перша похідна"
   ]
  },
  {
   "cell_type": "markdown",
   "metadata": {},
   "source": [
    "Метод Бісекції відрізка"
   ]
  },
  {
   "cell_type": "code",
   "execution_count": 2,
   "metadata": {},
   "outputs": [
    {
     "name": "stdout",
     "output_type": "stream",
     "text": [
      "Root: 2.182514190673828 \n",
      " iteration number: 18 \n",
      " absolute error 1.4721418817309484e-06\n"
     ]
    }
   ],
   "source": [
    "i = 1\n",
    "\n",
    "while abs(b - a )>=epsilon:\n",
    "    c = (b+a)/2\n",
    "\n",
    "    if f(a) * f(c) <= 0:\n",
    "        b = c\n",
    "    \n",
    "    elif f(c)*f(b) <=0:\n",
    "        a = c\n",
    "    \n",
    "    i = i+1\n",
    "\n",
    "x_0 = (a+b)/2\n",
    "\n",
    "print('Root:', x_0 ,  \n",
    "       '\\n iteration number:',i,\n",
    "      '\\n absolute error', abs(x_0-x))"
   ]
  },
  {
   "cell_type": "markdown",
   "metadata": {},
   "source": [
    "метод Хорд"
   ]
  },
  {
   "cell_type": "code",
   "execution_count": 3,
   "metadata": {},
   "outputs": [
    {
     "name": "stdout",
     "output_type": "stream",
     "text": [
      "Root: 2.1825126248089997 \n",
      " iteration number: 31 \n",
      " absolute error 9.372294673681836e-08\n"
     ]
    }
   ],
   "source": [
    "a = 2\n",
    "b = 3\n",
    "\n",
    "j = 1\n",
    "\n",
    "c = a\n",
    "while abs(f(c)) >= epsilon:\n",
    "    c = (a*f(b) - b*f(a))/(f(b) - f(a))\n",
    "\n",
    "    if f(a) * f(c) <= 0:\n",
    "       b = c\n",
    "    elif f(c) * f(b) <= 0:\n",
    "        a = c\n",
    "    \n",
    "    j = j+1\n",
    "\n",
    "x_1 = c\n",
    "print('Root:', x_1 ,  \n",
    "       '\\n iteration number:',j,\n",
    "      '\\n absolute error', abs(x_1-x))"
   ]
  },
  {
   "cell_type": "markdown",
   "metadata": {},
   "source": [
    "Метод Ньютона "
   ]
  },
  {
   "cell_type": "code",
   "execution_count": 4,
   "metadata": {},
   "outputs": [
    {
     "name": "stdout",
     "output_type": "stream",
     "text": [
      "Root: 2.1825127310496084 \n",
      " iteration number: 5 \n",
      " absolute error 1.2517662018041165e-08\n"
     ]
    }
   ],
   "source": [
    "k = 1 \n",
    "\n",
    "x_2 = 2.5\n",
    "\n",
    "while abs(f(x_2)) > epsilon:\n",
    "    x_2 = x_2 - (f(x_2)/f_(x_2))\n",
    "\n",
    "    k = k+1\n",
    "\n",
    "print('Root:', x_2 ,  \n",
    "       '\\n iteration number:',k,\n",
    "      '\\n absolute error', abs(x_2-x))"
   ]
  },
  {
   "cell_type": "markdown",
   "metadata": {},
   "source": [
    "<h4>Висновки</h4>\n",
    "\n",
    "**Метод Бісекції** дає найменш точний результат, але при цьому легко реалізується а також робить відносно мало кроків. Також є плюсом що не має вимог до поведінки функції \n",
    "\n",
    "**Метод Хорд** дає точніші результати але вимагає більше та складніших обчислень \n",
    "\n",
    "**Метод Ньютона** Дає найбільш точні результати за найменшу кількість кроків, також легкий в реалізації. Але необхідно знати похідну функції, має вимоги до поведінки функції, також ефективність залежить від правильності обрання початкової точки"
   ]
  }
 ],
 "metadata": {
  "kernelspec": {
   "display_name": "Python 3",
   "language": "python",
   "name": "python3"
  },
  "language_info": {
   "codemirror_mode": {
    "name": "ipython",
    "version": 3
   },
   "file_extension": ".py",
   "mimetype": "text/x-python",
   "name": "python",
   "nbconvert_exporter": "python",
   "pygments_lexer": "ipython3",
   "version": "3.9.10"
  }
 },
 "nbformat": 4,
 "nbformat_minor": 2
}
