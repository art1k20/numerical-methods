{
 "cells": [
  {
   "cell_type": "markdown",
   "metadata": {},
   "source": [
    "<h4>Розв'язання системи лінійних рівнянь методом Гауса</h4>\n",
    "\n"
   ]
  },
  {
   "cell_type": "code",
   "execution_count": 1,
   "metadata": {},
   "outputs": [],
   "source": [
    "import numpy as np\n",
    "\n",
    "A = np.array([[3.81, 0.25, 1.28, 1.75],\n",
    "              [2.25, 1.32, 5.58, 0.49],\n",
    "              [5.31, 7.28, 0.98, 1.04]\n",
    "              [10.39, 2.45, 3.35, 2.28]])\n",
    "\n",
    "b = np.array([4.21, 8.97, 2.38, 12.98])\n",
    "\n"
   ]
  },
  {
   "cell_type": "markdown",
   "metadata": {},
   "source": [
    "Прями хід метода Гауса \n"
   ]
  },
  {
   "cell_type": "code",
   "execution_count": 14,
   "metadata": {},
   "outputs": [
    {
     "name": "stdout",
     "output_type": "stream",
     "text": [
      "[[ 1.          0.0656168   0.33595801  0.45931759  1.10498688]\n",
      " [ 0.          1.          4.11484989 -0.4635637   5.53052589]\n",
      " [-0.         -0.          1.         -0.06186421  1.42611567]\n",
      " [-0.         -0.         -0.          1.         -1.0776198 ]]\n"
     ]
    }
   ],
   "source": [
    "n = len(b)\n",
    "\n",
    "# Комбінування матриці A та вектора b в початкову розширену матрицю\n",
    "augmented_matrix = np.column_stack((A, b))\n",
    "\n",
    "\n",
    "for i in range(n):\n",
    "    # Нормалізація поточного рядка\n",
    "    pivot_row = augmented_matrix[i]\n",
    "    augmented_matrix[i] = pivot_row / pivot_row[i]\n",
    "    \n",
    "    # Виразимо інші рядки з метою обнулення стовпців під головним елементом\n",
    "    for j in range(i + 1, n):\n",
    "        factor = augmented_matrix[j, i]\n",
    "        augmented_matrix[j] -= factor * augmented_matrix[i]\n",
    "\n",
    "print(augmented_matrix)"
   ]
  },
  {
   "cell_type": "markdown",
   "metadata": {},
   "source": [
    "Зворотній хід методу Гауса\n"
   ]
  },
  {
   "cell_type": "code",
   "execution_count": 9,
   "metadata": {},
   "outputs": [
    {
     "name": "stdout",
     "output_type": "stream",
     "text": [
      "Розв'язок системи рівнянь: [ 1.18017764 -0.56295045  1.35944957 -1.0776198 ]\n"
     ]
    }
   ],
   "source": [
    "\n",
    "# Зворотний хід методу Гауса\n",
    "x = np.zeros(n)\n",
    "for i in range(n - 1, -1, -1):\n",
    "    x[i] = augmented_matrix[i, -1] - np.dot(augmented_matrix[i, i+1:n], x[i+1:])\n",
    "\n",
    "\n",
    "print(\"Розв'язок системи рівнянь:\", x)"
   ]
  },
  {
   "cell_type": "markdown",
   "metadata": {},
   "source": [
    "Перевірка точності "
   ]
  },
  {
   "cell_type": "code",
   "execution_count": 12,
   "metadata": {},
   "outputs": [
    {
     "name": "stdout",
     "output_type": "stream",
     "text": [
      "1.0433733987432285e-14\n"
     ]
    }
   ],
   "source": [
    "print(np.linalg.norm(np.dot(A,x)-b))"
   ]
  },
  {
   "cell_type": "markdown",
   "metadata": {},
   "source": [
    "<h4>Висновок</h4>\n",
    "Метод Гауса є найфективнішим(асимптотично) та універсальним методом розв'язку, який дає дуууже близький до точного резульата(помилка в моєму випадку складає 14 знаків після коми)"
   ]
  }
 ],
 "metadata": {
  "kernelspec": {
   "display_name": "Python 3",
   "language": "python",
   "name": "python3"
  },
  "language_info": {
   "codemirror_mode": {
    "name": "ipython",
    "version": 3
   },
   "file_extension": ".py",
   "mimetype": "text/x-python",
   "name": "python",
   "nbconvert_exporter": "python",
   "pygments_lexer": "ipython3",
   "version": "3.9.10"
  }
 },
 "nbformat": 4,
 "nbformat_minor": 2
}
